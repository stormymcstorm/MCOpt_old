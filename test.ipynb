{
 "cells": [
  {
   "cell_type": "code",
   "execution_count": 1,
   "metadata": {},
   "outputs": [],
   "source": [
    "%reload_ext autoreload\n",
    "%autoreload 2\n",
    "\n",
    "import numpy as np\n",
    "import networkx as nx\n",
    "import matplotlib as mpl\n",
    "import matplotlib.pyplot as plt\n",
    "\n",
    "from mcopt.util.io import load_complex\n",
    "from mcopt.morse_graph import (\n",
    "  MorseGraph, \n",
    "  color_by_position,\n",
    "  attribute_cost_mat,\n",
    ")\n",
    "from mcopt.opt import (\n",
    "  GW, fpGW, pGW,\n",
    "  color_transfer,\n",
    ")"
   ]
  },
  {
   "attachments": {},
   "cell_type": "markdown",
   "metadata": {},
   "source": [
    "# Load Morse Complex"
   ]
  },
  {
   "cell_type": "code",
   "execution_count": 2,
   "metadata": {},
   "outputs": [],
   "source": [
    "mc = load_complex('gen_data/sinusoidal')\n",
    "mc_noisy = load_complex('gen_data/sinusoidal_noisy')"
   ]
  },
  {
   "attachments": {},
   "cell_type": "markdown",
   "metadata": {},
   "source": [
    "# Construct Morse Graph"
   ]
  },
  {
   "cell_type": "code",
   "execution_count": 3,
   "metadata": {},
   "outputs": [],
   "source": [
    "mg = MorseGraph.from_complex(mc).sample(3, mode='geo_dist')\n",
    "\n",
    "mg_noisy = MorseGraph.from_complex(mc_noisy).sample(3, mode='geo_dist')"
   ]
  },
  {
   "cell_type": "code",
   "execution_count": 15,
   "metadata": {},
   "outputs": [
    {
     "data": {
      "text/plain": [
       "29.559869610204444"
      ]
     },
     "execution_count": 15,
     "metadata": {},
     "output_type": "execute_result"
    }
   ],
   "source": [
    "mg_net = mg.to_measure_network()\n",
    "mg_noisy_net = mg_noisy.to_measure_network()\n",
    "\n",
    "coupling, d1 = GW(mg_net, mg_noisy_net)\n",
    "d1"
   ]
  },
  {
   "cell_type": "code",
   "execution_count": 16,
   "metadata": {},
   "outputs": [
    {
     "data": {
      "text/plain": [
       "14.779934805102199"
      ]
     },
     "execution_count": 16,
     "metadata": {},
     "output_type": "execute_result"
    }
   ],
   "source": [
    "partial_coupling, d2 = pGW(mg_net, mg_noisy_net, 1)\n",
    "d2"
   ]
  },
  {
   "cell_type": "code",
   "execution_count": 20,
   "metadata": {},
   "outputs": [],
   "source": [
    "_, C1, p = mg_net\n",
    "_, C2, q = mg_noisy_net"
   ]
  },
  {
   "cell_type": "code",
   "execution_count": 28,
   "metadata": {},
   "outputs": [],
   "source": [
    "G0 = np.outer(p,q)\n",
    "\n",
    "constC1 = np.dot(C1 ** 2 / 2, np.dot(G0, np.ones(C2.shape[0]).reshape(-1, 1)))\n",
    "cC1 = np.dot(\n",
    "    np.dot(C1 ** 2 / 2, np.reshape(p, (-1, 1))),\n",
    "    np.ones((1, len(q))),\n",
    ")"
   ]
  },
  {
   "cell_type": "code",
   "execution_count": 32,
   "metadata": {},
   "outputs": [
    {
     "data": {
      "text/plain": [
       "0.020659916822048464"
      ]
     },
     "execution_count": 32,
     "metadata": {},
     "output_type": "execute_result"
    }
   ],
   "source": [
    "np.abs(coupling - partial_coupling).sum()"
   ]
  }
 ],
 "metadata": {
  "kernelspec": {
   "display_name": ".venv",
   "language": "python",
   "name": "python3"
  },
  "language_info": {
   "codemirror_mode": {
    "name": "ipython",
    "version": 3
   },
   "file_extension": ".py",
   "mimetype": "text/x-python",
   "name": "python",
   "nbconvert_exporter": "python",
   "pygments_lexer": "ipython3",
   "version": "3.10.10"
  },
  "orig_nbformat": 4
 },
 "nbformat": 4,
 "nbformat_minor": 2
}
